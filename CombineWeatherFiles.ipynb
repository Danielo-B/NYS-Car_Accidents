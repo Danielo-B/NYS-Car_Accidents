{
 "cells": [
  {
   "cell_type": "markdown",
   "metadata": {},
   "source": [
    "### Processing and combining all the weather datas"
   ]
  },
  {
   "cell_type": "code",
   "execution_count": 1,
   "metadata": {
    "ExecuteTime": {
     "end_time": "2019-08-04T21:28:33.969022Z",
     "start_time": "2019-08-04T21:28:33.272912Z"
    }
   },
   "outputs": [],
   "source": [
    "import pandas as pd\n",
    "import pickle"
   ]
  },
  {
   "cell_type": "code",
   "execution_count": 2,
   "metadata": {
    "ExecuteTime": {
     "end_time": "2019-08-04T21:28:34.132353Z",
     "start_time": "2019-08-04T21:28:33.997188Z"
    }
   },
   "outputs": [
    {
     "name": "stdout",
     "output_type": "stream",
     "text": [
      "Essex_weather_clean.pkl     erie_weather_clean.pkl\r\n",
      "Jefferson_weather_clean.pkl fulton_weather_clean.pkl\r\n",
      "Nassau_weather_clean.pkl    monroe_weather_clean.pkl\r\n",
      "albany_weather_clean.pkl    onondaga_weather_clean.pkl\r\n",
      "broome_weather_clean.pkl    orange_weather_clean.pkl\r\n",
      "clinton_weather_clean.pkl   suffolk_weather_clean.pkl\r\n",
      "dutchess_weather_clean.pkl\r\n"
     ]
    }
   ],
   "source": [
    "#get a list of all of the ickle files in the current directory\n",
    "!ls *.pkl"
   ]
  },
  {
   "cell_type": "code",
   "execution_count": 4,
   "metadata": {
    "ExecuteTime": {
     "end_time": "2019-08-04T21:28:39.657450Z",
     "start_time": "2019-08-04T21:28:39.552753Z"
    }
   },
   "outputs": [
    {
     "name": "stdout",
     "output_type": "stream",
     "text": [
      "(893, 9)\n",
      "(881, 9)\n",
      "(916, 9)\n",
      "(904, 9)\n",
      "(904, 9)\n",
      "(890, 9)\n",
      "(905, 9)\n",
      "(916, 9)\n",
      "(902, 9)\n",
      "(915, 9)\n",
      "(915, 9)\n",
      "(902, 9)\n",
      "(912, 9)\n",
      "shape of final dataframe is (11755, 9)\n"
     ]
    }
   ],
   "source": [
    "df_list = !ls *.pkl\n",
    "\n",
    "#combines all of the dataframes together\n",
    "dfs = []\n",
    "for file in df_list:\n",
    "    with open(file, 'rb') as picklefile: \n",
    "        df = pickle.load(picklefile)\n",
    "        print(df.shape)\n",
    "        dfs.append(df)\n",
    "df_main = pd.concat(dfs, ignore_index=True)\n",
    "print(\"shape of final dataframe is\", df_main.shape)"
   ]
  },
  {
   "cell_type": "code",
   "execution_count": 4,
   "metadata": {
    "ExecuteTime": {
     "end_time": "2019-08-04T17:22:00.696483Z",
     "start_time": "2019-08-04T17:22:00.668924Z"
    }
   },
   "outputs": [
    {
     "data": {
      "text/html": [
       "<div>\n",
       "<style scoped>\n",
       "    .dataframe tbody tr th:only-of-type {\n",
       "        vertical-align: middle;\n",
       "    }\n",
       "\n",
       "    .dataframe tbody tr th {\n",
       "        vertical-align: top;\n",
       "    }\n",
       "\n",
       "    .dataframe thead th {\n",
       "        text-align: right;\n",
       "    }\n",
       "</style>\n",
       "<table border=\"1\" class=\"dataframe\">\n",
       "  <thead>\n",
       "    <tr style=\"text-align: right;\">\n",
       "      <th></th>\n",
       "      <th>WEATHER_DESC</th>\n",
       "      <th>DATE_TIME_PROCESSED</th>\n",
       "      <th>T_HIGH_F</th>\n",
       "      <th>T_LOW_F</th>\n",
       "      <th>HUMIDITY_%</th>\n",
       "      <th>BAROMETER_HG</th>\n",
       "      <th>WIND_DIRECTION</th>\n",
       "      <th>WIND_MPH</th>\n",
       "      <th>County_join</th>\n",
       "    </tr>\n",
       "  </thead>\n",
       "  <tbody>\n",
       "    <tr>\n",
       "      <th>0</th>\n",
       "      <td>Passing clouds.</td>\n",
       "      <td>2016-05-26</td>\n",
       "      <td>66.0</td>\n",
       "      <td>63.0</td>\n",
       "      <td>66.0</td>\n",
       "      <td>30.05</td>\n",
       "      <td>SSE</td>\n",
       "      <td>4.971</td>\n",
       "      <td>ERIE</td>\n",
       "    </tr>\n",
       "    <tr>\n",
       "      <th>1</th>\n",
       "      <td>Clear.</td>\n",
       "      <td>2016-05-25</td>\n",
       "      <td>61.0</td>\n",
       "      <td>57.0</td>\n",
       "      <td>48.0</td>\n",
       "      <td>30.01</td>\n",
       "      <td>S</td>\n",
       "      <td>6.836</td>\n",
       "      <td>ERIE</td>\n",
       "    </tr>\n",
       "    <tr>\n",
       "      <th>2</th>\n",
       "      <td>Clear.</td>\n",
       "      <td>2016-05-24</td>\n",
       "      <td>57.0</td>\n",
       "      <td>55.0</td>\n",
       "      <td>73.0</td>\n",
       "      <td>29.98</td>\n",
       "      <td>SW</td>\n",
       "      <td>8.700</td>\n",
       "      <td>ERIE</td>\n",
       "    </tr>\n",
       "    <tr>\n",
       "      <th>3</th>\n",
       "      <td>Clear.</td>\n",
       "      <td>2016-05-23</td>\n",
       "      <td>55.0</td>\n",
       "      <td>48.0</td>\n",
       "      <td>83.0</td>\n",
       "      <td>29.99</td>\n",
       "      <td>S</td>\n",
       "      <td>3.728</td>\n",
       "      <td>ERIE</td>\n",
       "    </tr>\n",
       "    <tr>\n",
       "      <th>4</th>\n",
       "      <td>Passing clouds.</td>\n",
       "      <td>2016-05-22</td>\n",
       "      <td>54.0</td>\n",
       "      <td>54.0</td>\n",
       "      <td>82.0</td>\n",
       "      <td>29.92</td>\n",
       "      <td>SSW</td>\n",
       "      <td>6.214</td>\n",
       "      <td>ERIE</td>\n",
       "    </tr>\n",
       "  </tbody>\n",
       "</table>\n",
       "</div>"
      ],
      "text/plain": [
       "      WEATHER_DESC DATE_TIME_PROCESSED  T_HIGH_F  T_LOW_F  HUMIDITY_%  \\\n",
       "0  Passing clouds.          2016-05-26      66.0     63.0        66.0   \n",
       "1           Clear.          2016-05-25      61.0     57.0        48.0   \n",
       "2           Clear.          2016-05-24      57.0     55.0        73.0   \n",
       "3           Clear.          2016-05-23      55.0     48.0        83.0   \n",
       "4  Passing clouds.          2016-05-22      54.0     54.0        82.0   \n",
       "\n",
       "   BAROMETER_HG WIND_DIRECTION  WIND_MPH County_join  \n",
       "0         30.05            SSE     4.971        ERIE  \n",
       "1         30.01              S     6.836        ERIE  \n",
       "2         29.98             SW     8.700        ERIE  \n",
       "3         29.99              S     3.728        ERIE  \n",
       "4         29.92            SSW     6.214        ERIE  "
      ]
     },
     "execution_count": 4,
     "metadata": {},
     "output_type": "execute_result"
    }
   ],
   "source": [
    "df_main.head(5)"
   ]
  },
  {
   "cell_type": "code",
   "execution_count": 5,
   "metadata": {
    "ExecuteTime": {
     "end_time": "2019-08-04T21:28:45.739729Z",
     "start_time": "2019-08-04T21:28:45.725033Z"
    }
   },
   "outputs": [
    {
     "data": {
      "text/plain": [
       "ERIE         916\n",
       "NASSAU       916\n",
       "MONROE       915\n",
       "ONONDAGA     915\n",
       "SUFFOLK      912\n",
       "DUTCHESS     905\n",
       "BROOME       904\n",
       "ALBANY       904\n",
       "FULTON       902\n",
       "ORANGE       902\n",
       "ESSEX        893\n",
       "CLINTON      890\n",
       "JEFFERSON    881\n",
       "Name: County_join, dtype: int64"
      ]
     },
     "execution_count": 5,
     "metadata": {},
     "output_type": "execute_result"
    }
   ],
   "source": [
    "df_main['County_join'].value_counts()"
   ]
  },
  {
   "cell_type": "code",
   "execution_count": 6,
   "metadata": {
    "ExecuteTime": {
     "end_time": "2019-08-04T18:48:09.100559Z",
     "start_time": "2019-08-04T18:48:09.074726Z"
    }
   },
   "outputs": [
    {
     "data": {
      "text/html": [
       "<div>\n",
       "<style scoped>\n",
       "    .dataframe tbody tr th:only-of-type {\n",
       "        vertical-align: middle;\n",
       "    }\n",
       "\n",
       "    .dataframe tbody tr th {\n",
       "        vertical-align: top;\n",
       "    }\n",
       "\n",
       "    .dataframe thead th {\n",
       "        text-align: right;\n",
       "    }\n",
       "</style>\n",
       "<table border=\"1\" class=\"dataframe\">\n",
       "  <thead>\n",
       "    <tr style=\"text-align: right;\">\n",
       "      <th></th>\n",
       "      <th>WEATHER_DESC</th>\n",
       "      <th>DATE_TIME_PROCESSED</th>\n",
       "      <th>T_HIGH_F</th>\n",
       "      <th>T_LOW_F</th>\n",
       "      <th>HUMIDITY_%</th>\n",
       "      <th>BAROMETER_HG</th>\n",
       "      <th>WIND_DIRECTION</th>\n",
       "      <th>WIND_MPH</th>\n",
       "      <th>County_join</th>\n",
       "    </tr>\n",
       "  </thead>\n",
       "  <tbody>\n",
       "    <tr>\n",
       "      <th>9463</th>\n",
       "      <td>Clear.</td>\n",
       "      <td>2016-05-26</td>\n",
       "      <td>66.0</td>\n",
       "      <td>57.0</td>\n",
       "      <td>80.0</td>\n",
       "      <td>30.06</td>\n",
       "      <td>N</td>\n",
       "      <td>0.621</td>\n",
       "      <td>SUFFOLK</td>\n",
       "    </tr>\n",
       "    <tr>\n",
       "      <th>9464</th>\n",
       "      <td>Fog.</td>\n",
       "      <td>2016-05-25</td>\n",
       "      <td>54.0</td>\n",
       "      <td>50.0</td>\n",
       "      <td>98.0</td>\n",
       "      <td>30.00</td>\n",
       "      <td>ENE</td>\n",
       "      <td>0.621</td>\n",
       "      <td>SUFFOLK</td>\n",
       "    </tr>\n",
       "    <tr>\n",
       "      <th>9465</th>\n",
       "      <td>Light rain. Fog.</td>\n",
       "      <td>2016-05-24</td>\n",
       "      <td>59.0</td>\n",
       "      <td>55.0</td>\n",
       "      <td>88.0</td>\n",
       "      <td>29.86</td>\n",
       "      <td>WNW</td>\n",
       "      <td>5.593</td>\n",
       "      <td>SUFFOLK</td>\n",
       "    </tr>\n",
       "    <tr>\n",
       "      <th>9466</th>\n",
       "      <td>Clear.</td>\n",
       "      <td>2016-05-23</td>\n",
       "      <td>54.0</td>\n",
       "      <td>48.0</td>\n",
       "      <td>92.0</td>\n",
       "      <td>29.90</td>\n",
       "      <td>N</td>\n",
       "      <td>0.000</td>\n",
       "      <td>SUFFOLK</td>\n",
       "    </tr>\n",
       "  </tbody>\n",
       "</table>\n",
       "</div>"
      ],
      "text/plain": [
       "          WEATHER_DESC DATE_TIME_PROCESSED  T_HIGH_F  T_LOW_F  HUMIDITY_%  \\\n",
       "9463            Clear.          2016-05-26      66.0     57.0        80.0   \n",
       "9464              Fog.          2016-05-25      54.0     50.0        98.0   \n",
       "9465  Light rain. Fog.          2016-05-24      59.0     55.0        88.0   \n",
       "9466            Clear.          2016-05-23      54.0     48.0        92.0   \n",
       "\n",
       "      BAROMETER_HG WIND_DIRECTION  WIND_MPH County_join  \n",
       "9463         30.06              N     0.621     SUFFOLK  \n",
       "9464         30.00            ENE     0.621     SUFFOLK  \n",
       "9465         29.86            WNW     5.593     SUFFOLK  \n",
       "9466         29.90              N     0.000     SUFFOLK  "
      ]
     },
     "execution_count": 6,
     "metadata": {},
     "output_type": "execute_result"
    }
   ],
   "source": [
    "df_main[df_main['County_join'] == \"SUFFOLK\"].head(4)"
   ]
  },
  {
   "cell_type": "code",
   "execution_count": 6,
   "metadata": {
    "ExecuteTime": {
     "end_time": "2019-08-04T21:28:52.105923Z",
     "start_time": "2019-08-04T21:28:51.954037Z"
    }
   },
   "outputs": [],
   "source": [
    "df_main.to_csv('../../weather.csv', header=True, index=False)"
   ]
  }
 ],
 "metadata": {
  "kernelspec": {
   "display_name": "Python 3",
   "language": "python",
   "name": "python3"
  },
  "language_info": {
   "codemirror_mode": {
    "name": "ipython",
    "version": 3
   },
   "file_extension": ".py",
   "mimetype": "text/x-python",
   "name": "python",
   "nbconvert_exporter": "python",
   "pygments_lexer": "ipython3",
   "version": "3.7.1"
  },
  "varInspector": {
   "cols": {
    "lenName": 16,
    "lenType": 16,
    "lenVar": 40
   },
   "kernels_config": {
    "python": {
     "delete_cmd_postfix": "",
     "delete_cmd_prefix": "del ",
     "library": "var_list.py",
     "varRefreshCmd": "print(var_dic_list())"
    },
    "r": {
     "delete_cmd_postfix": ") ",
     "delete_cmd_prefix": "rm(",
     "library": "var_list.r",
     "varRefreshCmd": "cat(var_dic_list()) "
    }
   },
   "types_to_exclude": [
    "module",
    "function",
    "builtin_function_or_method",
    "instance",
    "_Feature"
   ],
   "window_display": false
  }
 },
 "nbformat": 4,
 "nbformat_minor": 2
}

{
 "cells": [
  {
   "cell_type": "markdown",
   "metadata": {
    "ExecuteTime": {
     "end_time": "2019-08-04T04:29:08.416648Z",
     "start_time": "2019-08-04T04:29:08.411973Z"
    }
   },
   "source": [
    "# Loading in the Data & Basic EDA"
   ]
  },
  {
   "cell_type": "markdown",
   "metadata": {},
   "source": [
    "### This file is to do EDA and basic cleaning/transformation"
   ]
  },
  {
   "cell_type": "code",
   "execution_count": 1,
   "metadata": {
    "ExecuteTime": {
     "end_time": "2019-08-12T18:32:59.716385Z",
     "start_time": "2019-08-12T18:32:58.134538Z"
    }
   },
   "outputs": [],
   "source": [
    "import numpy as np\n",
    "import pandas as pd\n",
    "import seaborn as sn\n",
    "import matplotlib.pyplot as plt\n",
    "%matplotlib inline\n",
    "\n",
    "#modeling\n",
    "from sklearn.model_selection import cross_val_score, KFold\n",
    "from sklearn.preprocessing import StandardScaler, PolynomialFeatures\n",
    "from sklearn.model_selection import train_test_split\n",
    "#from sklearn import metrics\n",
    "\n",
    "from sklearn.neighbors import KNeighborsClassifier\n",
    "from sklearn.linear_model import LogisticRegression\n",
    "from sklearn.metrics import precision_score, recall_score, precision_recall_curve,f1_score, fbeta_score\n",
    "from sklearn.model_selection import learning_curve\n",
    "\n",
    "#Gaussian Naive Bayes\n",
    "from sklearn.naive_bayes import GaussianNB\n",
    "\n",
    "#SVM (Support Vector Machine) Classifier\n",
    "from sklearn.svm import SVC\n",
    "\n",
    "#Decision Tree\n",
    "from sklearn.tree import DecisionTreeClassifier\n",
    "\n",
    "#Random Forest\n",
    "from sklearn.ensemble import RandomForestClassifier\n",
    "\n",
    "from sklearn.model_selection import cross_val_score, KFold\n",
    "from sklearn.metrics import roc_auc_score, roc_curve\n"
   ]
  },
  {
   "cell_type": "code",
   "execution_count": 2,
   "metadata": {
    "ExecuteTime": {
     "end_time": "2019-08-12T18:32:59.801913Z",
     "start_time": "2019-08-12T18:32:59.792183Z"
    }
   },
   "outputs": [],
   "source": [
    "weather_list = [\n",
    "\"ALBANY\",\n",
    "\"BROOME\",\n",
    "\"CATTARAUGUS\",\n",
    "\"CLINTON\",\n",
    "\"DUTCHESS\",\n",
    "\"ERIE\",\n",
    "\"ESSEX\",\n",
    "\"FULTON\",\n",
    "\"GREENE\",\n",
    "\"JEFFERSON\",\n",
    "\"MONROE\",\n",
    "\"NASSAU\",\n",
    "\"ONEIDA\",\n",
    "\"ONONDAGA\",\n",
    "\"ONTARIO\",\n",
    "\"ORANGE\",\n",
    "\"OTSEGO\",\n",
    "\"RENSSELAER\",\n",
    "\"ROCKLAND\",\n",
    "\"SARATOGA\",\n",
    "\"SCHENECTADY\",\n",
    "\"SUFFOLK\",\n",
    "\"ULSTER\",\n",
    "\"WESTCHESTER\"]"
   ]
  },
  {
   "cell_type": "code",
   "execution_count": 3,
   "metadata": {
    "ExecuteTime": {
     "end_time": "2019-08-12T18:33:08.014797Z",
     "start_time": "2019-08-12T18:33:04.504992Z"
    }
   },
   "outputs": [],
   "source": [
    "df = pd.read_csv('../MV_crashes.csv')"
   ]
  },
  {
   "cell_type": "code",
   "execution_count": 4,
   "metadata": {
    "ExecuteTime": {
     "end_time": "2019-08-12T18:33:08.130450Z",
     "start_time": "2019-08-12T18:33:08.098402Z"
    }
   },
   "outputs": [
    {
     "data": {
      "text/plain": [
       "2016    301908\n",
       "2014    299452\n",
       "2015    294556\n",
       "Name: Year, dtype: int64"
      ]
     },
     "execution_count": 4,
     "metadata": {},
     "output_type": "execute_result"
    }
   ],
   "source": [
    "df.Year.value_counts()"
   ]
  },
  {
   "cell_type": "code",
   "execution_count": 5,
   "metadata": {
    "ExecuteTime": {
     "end_time": "2019-08-12T18:33:08.739681Z",
     "start_time": "2019-08-12T18:33:08.253591Z"
    }
   },
   "outputs": [
    {
     "name": "stdout",
     "output_type": "stream",
     "text": [
      "Shape of data set:  (559561, 19)\n"
     ]
    }
   ],
   "source": [
    "#Remove NYC counties\n",
    "#NYC = [\"QUEENS\",\"KINGS\", \"NEW YORK\", \"BRONX\", \"RICHMOND\"]\n",
    "#df = df[~df[\"County Name\"].isin(NYC)].reset_index()\n",
    "\n",
    "#Select countys with weather station data\n",
    "df = df[df[\"County Name\"].isin(weather_list)].reset_index()\n",
    "print(\"Shape of data set: \", df.shape)"
   ]
  },
  {
   "cell_type": "code",
   "execution_count": 6,
   "metadata": {
    "ExecuteTime": {
     "end_time": "2019-08-12T18:33:08.942395Z",
     "start_time": "2019-08-12T18:33:08.839595Z"
    }
   },
   "outputs": [],
   "source": [
    "#drop cols dont need\n",
    "df.drop(['Year', 'Police Report', 'Municipality', 'DOT Reference Marker Location', \n",
    "         'Pedestrian Bicyclist Action', 'Pedestrian Bicyclist Action', 'Collision Type Descriptor'] \n",
    "         ,axis=1, inplace=True)"
   ]
  },
  {
   "cell_type": "code",
   "execution_count": 7,
   "metadata": {
    "ExecuteTime": {
     "end_time": "2019-08-12T18:33:09.144627Z",
     "start_time": "2019-08-12T18:33:09.045215Z"
    }
   },
   "outputs": [
    {
     "name": "stdout",
     "output_type": "stream",
     "text": [
      "Counties being used\n",
      "['ERIE' 'SUFFOLK' 'GREENE' 'JEFFERSON' 'ULSTER' 'NASSAU' 'ORANGE'\n",
      " 'CATTARAUGUS' 'DUTCHESS' 'RENSSELAER' 'CLINTON' 'WESTCHESTER'\n",
      " 'SCHENECTADY' 'ROCKLAND' 'ESSEX' 'ALBANY' 'MONROE' 'ONTARIO' 'ONONDAGA'\n",
      " 'BROOME' 'SARATOGA' 'ONEIDA' 'OTSEGO' 'FULTON']\n",
      "\n",
      "\n",
      "NASSAU         98983\n",
      "SUFFOLK        96013\n",
      "ERIE           51699\n",
      "WESTCHESTER    44364\n",
      "MONROE         42096\n",
      "ONONDAGA       29168\n",
      "ORANGE         28856\n",
      "ALBANY         24541\n",
      "ROCKLAND       19745\n",
      "DUTCHESS       17195\n",
      "SARATOGA       14156\n",
      "ONEIDA         13209\n",
      "ULSTER         12899\n",
      "BROOME         11791\n",
      "SCHENECTADY     9857\n",
      "RENSSELAER      8977\n",
      "ONTARIO         7336\n",
      "JEFFERSON       6228\n",
      "CLINTON         5153\n",
      "CATTARAUGUS     4490\n",
      "OTSEGO          3693\n",
      "GREENE          3535\n",
      "ESSEX           2878\n",
      "FULTON          2699\n",
      "Name: County Name, dtype: int64\n"
     ]
    }
   ],
   "source": [
    "print(\"Counties being used\")\n",
    "print(df['County Name'].unique())\n",
    "print(\"\\n\")\n",
    "print(df['County Name'].value_counts())"
   ]
  },
  {
   "cell_type": "code",
   "execution_count": 8,
   "metadata": {
    "ExecuteTime": {
     "end_time": "2019-08-12T18:33:09.358885Z",
     "start_time": "2019-08-12T18:33:09.219068Z"
    }
   },
   "outputs": [
    {
     "data": {
      "text/plain": [
       "Friday       93314\n",
       "Thursday     85673\n",
       "Wednesday    84382\n",
       "Tuesday      83247\n",
       "Monday       80662\n",
       "Saturday     72475\n",
       "Sunday       59808\n",
       "Name: Day of Week, dtype: int64"
      ]
     },
     "execution_count": 8,
     "metadata": {},
     "output_type": "execute_result"
    }
   ],
   "source": [
    "df['Day of Week'].value_counts()"
   ]
  },
  {
   "cell_type": "markdown",
   "metadata": {},
   "source": [
    "# Transforming & Mapping Data"
   ]
  },
  {
   "cell_type": "markdown",
   "metadata": {},
   "source": [
    "### Changing Crash Descriptor ie Y"
   ]
  },
  {
   "cell_type": "code",
   "execution_count": 9,
   "metadata": {
    "ExecuteTime": {
     "end_time": "2019-08-12T18:33:13.388659Z",
     "start_time": "2019-08-12T18:33:13.301574Z"
    }
   },
   "outputs": [
    {
     "data": {
      "text/plain": [
       "Property Damage Accident             0.663631\n",
       "Property Damage & Injury Accident    0.220950\n",
       "Injury Accident                      0.112417\n",
       "Fatal Accident                       0.003002\n",
       "Name: Crash Descriptor, dtype: float64"
      ]
     },
     "execution_count": 9,
     "metadata": {},
     "output_type": "execute_result"
    }
   ],
   "source": [
    "df['Crash Descriptor'].value_counts(normalize=True)"
   ]
  },
  {
   "cell_type": "markdown",
   "metadata": {},
   "source": [
    "Lets map everything involving any sort of injury as the injury class"
   ]
  },
  {
   "cell_type": "code",
   "execution_count": 10,
   "metadata": {
    "ExecuteTime": {
     "end_time": "2019-08-12T18:33:15.286747Z",
     "start_time": "2019-08-12T18:33:14.898659Z"
    }
   },
   "outputs": [],
   "source": [
    "#property damage = 0\n",
    "#injury = 1 \n",
    "crash_map = {\"Property Damage Accident\": 0,\n",
    "             \"Property Damage & Injury Accident\": 1,\n",
    "             \"Injury Accident\": 1,\n",
    "            \"Fatal Accident\" : 1}\n",
    "df['Crash Descriptor'].replace(crash_map, inplace=True)"
   ]
  },
  {
   "cell_type": "code",
   "execution_count": 11,
   "metadata": {
    "ExecuteTime": {
     "end_time": "2019-08-12T18:33:17.815907Z",
     "start_time": "2019-08-12T18:33:17.790215Z"
    }
   },
   "outputs": [
    {
     "data": {
      "text/plain": [
       "0    0.663631\n",
       "1    0.336369\n",
       "Name: Crash Descriptor, dtype: float64"
      ]
     },
     "execution_count": 11,
     "metadata": {},
     "output_type": "execute_result"
    }
   ],
   "source": [
    "#end up with 66/33 split\n",
    "##Non-Injury is class 0 / Injury is class 1\n",
    "df['Crash Descriptor'].value_counts(normalize=True)"
   ]
  },
  {
   "cell_type": "markdown",
   "metadata": {},
   "source": [
    "### Transform Time varaible to extract Hour / Transform Date to extract month"
   ]
  },
  {
   "cell_type": "code",
   "execution_count": 12,
   "metadata": {
    "ExecuteTime": {
     "end_time": "2019-08-12T18:33:24.237940Z",
     "start_time": "2019-08-12T18:33:20.791035Z"
    }
   },
   "outputs": [],
   "source": [
    "#get hour of the day \n",
    "df[\"Hour\"] = df[\"Time\"].str.split(':').str[0].astype(int)\n",
    "\n",
    "#get month from date\n",
    "df[\"Month\"] = df[\"Date\"].str.split('-').str[1].astype(int)\n",
    "df['Date'] = df[\"Date\"].str.split('T').str[0] #split seconds out of Date field to get just the date"
   ]
  },
  {
   "cell_type": "markdown",
   "metadata": {},
   "source": [
    "### Road Descriptor transform"
   ]
  },
  {
   "cell_type": "code",
   "execution_count": 13,
   "metadata": {
    "ExecuteTime": {
     "end_time": "2019-08-12T18:33:30.802404Z",
     "start_time": "2019-08-12T18:33:30.724697Z"
    }
   },
   "outputs": [
    {
     "data": {
      "text/plain": [
       "Straight and Level        397312\n",
       "Straight and Grade         61210\n",
       "Curve and Level            35643\n",
       "Unknown                    27392\n",
       "Curve and Grade            26974\n",
       "Straight at Hill Crest      8185\n",
       "Curve at Hill Crest         2845\n",
       "Name: Road Descriptor, dtype: int64"
      ]
     },
     "execution_count": 13,
     "metadata": {},
     "output_type": "execute_result"
    }
   ],
   "source": [
    "df[\"Road Descriptor\"].value_counts()"
   ]
  },
  {
   "cell_type": "code",
   "execution_count": 14,
   "metadata": {
    "ExecuteTime": {
     "end_time": "2019-08-12T18:33:35.262712Z",
     "start_time": "2019-08-12T18:33:34.669422Z"
    }
   },
   "outputs": [],
   "source": [
    "#Neither represents unknown cases. Ie drop_first\n",
    "#create 2 columns for straight or curve\n",
    "df['Straight_Road'] = df[\"Road Descriptor\"].str.contains(\"Straight\").astype(int)\n",
    "df['Curve_Road'] = df[\"Road Descriptor\"].str.contains(\"Curve\").astype(int)"
   ]
  },
  {
   "cell_type": "code",
   "execution_count": 15,
   "metadata": {
    "ExecuteTime": {
     "end_time": "2019-08-12T18:33:36.472543Z",
     "start_time": "2019-08-12T18:33:35.353348Z"
    }
   },
   "outputs": [],
   "source": [
    "#create 3 columns from street slope\n",
    "df['Level_Road'] = df[\"Road Descriptor\"].str.contains(\"Level\").astype(int)\n",
    "df['Grade_Road'] = df[\"Road Descriptor\"].str.contains(\"Grade\").astype(int)\n",
    "df['Hill_Road'] = df[\"Road Descriptor\"].str.contains(\"Hill Crest\").astype(int)\n",
    "df.drop([\"Road Descriptor\"], axis=1, inplace=True) #drop original column when done with it"
   ]
  },
  {
   "cell_type": "code",
   "execution_count": 16,
   "metadata": {
    "ExecuteTime": {
     "end_time": "2019-08-12T18:33:40.079473Z",
     "start_time": "2019-08-12T18:33:40.055606Z"
    }
   },
   "outputs": [
    {
     "data": {
      "text/html": [
       "<div>\n",
       "<style scoped>\n",
       "    .dataframe tbody tr th:only-of-type {\n",
       "        vertical-align: middle;\n",
       "    }\n",
       "\n",
       "    .dataframe tbody tr th {\n",
       "        vertical-align: top;\n",
       "    }\n",
       "\n",
       "    .dataframe thead th {\n",
       "        text-align: right;\n",
       "    }\n",
       "</style>\n",
       "<table border=\"1\" class=\"dataframe\">\n",
       "  <thead>\n",
       "    <tr style=\"text-align: right;\">\n",
       "      <th></th>\n",
       "      <th>index</th>\n",
       "      <th>Crash Descriptor</th>\n",
       "      <th>Time</th>\n",
       "      <th>Date</th>\n",
       "      <th>Day of Week</th>\n",
       "      <th>Lighting Conditions</th>\n",
       "      <th>County Name</th>\n",
       "      <th>Weather Conditions</th>\n",
       "      <th>Traffic Control Device</th>\n",
       "      <th>Road Surface Conditions</th>\n",
       "      <th>Event Descriptor</th>\n",
       "      <th>Number of Vehicles Involved</th>\n",
       "      <th>Hour</th>\n",
       "      <th>Month</th>\n",
       "      <th>Straight_Road</th>\n",
       "      <th>Curve_Road</th>\n",
       "      <th>Level_Road</th>\n",
       "      <th>Grade_Road</th>\n",
       "      <th>Hill_Road</th>\n",
       "    </tr>\n",
       "  </thead>\n",
       "  <tbody>\n",
       "    <tr>\n",
       "      <th>0</th>\n",
       "      <td>3</td>\n",
       "      <td>0</td>\n",
       "      <td>12:32</td>\n",
       "      <td>2016-12-31</td>\n",
       "      <td>Saturday</td>\n",
       "      <td>Daylight</td>\n",
       "      <td>ERIE</td>\n",
       "      <td>Snow</td>\n",
       "      <td>None</td>\n",
       "      <td>Snow/Ice</td>\n",
       "      <td>Snow Embankment, Collision With Fixed Object</td>\n",
       "      <td>1</td>\n",
       "      <td>12</td>\n",
       "      <td>12</td>\n",
       "      <td>1</td>\n",
       "      <td>0</td>\n",
       "      <td>1</td>\n",
       "      <td>0</td>\n",
       "      <td>0</td>\n",
       "    </tr>\n",
       "    <tr>\n",
       "      <th>1</th>\n",
       "      <td>5</td>\n",
       "      <td>1</td>\n",
       "      <td>15:40</td>\n",
       "      <td>2016-12-31</td>\n",
       "      <td>Saturday</td>\n",
       "      <td>Daylight</td>\n",
       "      <td>SUFFOLK</td>\n",
       "      <td>Clear</td>\n",
       "      <td>Traffic Signal</td>\n",
       "      <td>Dry</td>\n",
       "      <td>Other Motor Vehicle, Collision With</td>\n",
       "      <td>2</td>\n",
       "      <td>15</td>\n",
       "      <td>12</td>\n",
       "      <td>1</td>\n",
       "      <td>0</td>\n",
       "      <td>1</td>\n",
       "      <td>0</td>\n",
       "      <td>0</td>\n",
       "    </tr>\n",
       "    <tr>\n",
       "      <th>2</th>\n",
       "      <td>6</td>\n",
       "      <td>0</td>\n",
       "      <td>20:15</td>\n",
       "      <td>2016-12-31</td>\n",
       "      <td>Saturday</td>\n",
       "      <td>Dark-Road Unlighted</td>\n",
       "      <td>GREENE</td>\n",
       "      <td>Cloudy</td>\n",
       "      <td>None</td>\n",
       "      <td>Wet</td>\n",
       "      <td>Deer</td>\n",
       "      <td>1</td>\n",
       "      <td>20</td>\n",
       "      <td>12</td>\n",
       "      <td>1</td>\n",
       "      <td>0</td>\n",
       "      <td>1</td>\n",
       "      <td>0</td>\n",
       "      <td>0</td>\n",
       "    </tr>\n",
       "  </tbody>\n",
       "</table>\n",
       "</div>"
      ],
      "text/plain": [
       "   index  Crash Descriptor   Time        Date Day of Week  \\\n",
       "0      3                 0  12:32  2016-12-31    Saturday   \n",
       "1      5                 1  15:40  2016-12-31    Saturday   \n",
       "2      6                 0  20:15  2016-12-31    Saturday   \n",
       "\n",
       "   Lighting Conditions County Name Weather Conditions Traffic Control Device  \\\n",
       "0             Daylight        ERIE               Snow                   None   \n",
       "1             Daylight     SUFFOLK              Clear         Traffic Signal   \n",
       "2  Dark-Road Unlighted      GREENE             Cloudy                   None   \n",
       "\n",
       "  Road Surface Conditions                              Event Descriptor  \\\n",
       "0                Snow/Ice  Snow Embankment, Collision With Fixed Object   \n",
       "1                     Dry           Other Motor Vehicle, Collision With   \n",
       "2                     Wet                                          Deer   \n",
       "\n",
       "   Number of Vehicles Involved  Hour  Month  Straight_Road  Curve_Road  \\\n",
       "0                            1    12     12              1           0   \n",
       "1                            2    15     12              1           0   \n",
       "2                            1    20     12              1           0   \n",
       "\n",
       "   Level_Road  Grade_Road  Hill_Road  \n",
       "0           1           0          0  \n",
       "1           1           0          0  \n",
       "2           1           0          0  "
      ]
     },
     "execution_count": 16,
     "metadata": {},
     "output_type": "execute_result"
    }
   ],
   "source": [
    "#print out df to see changes made\n",
    "df.head(3)"
   ]
  },
  {
   "cell_type": "markdown",
   "metadata": {},
   "source": [
    "### Traffic Signal"
   ]
  },
  {
   "cell_type": "code",
   "execution_count": 17,
   "metadata": {
    "ExecuteTime": {
     "end_time": "2019-08-12T18:33:45.966935Z",
     "start_time": "2019-08-12T18:33:45.883371Z"
    }
   },
   "outputs": [
    {
     "data": {
      "text/plain": [
       "None                                      317953\n",
       "Traffic Signal                            111655\n",
       "Stop Sign                                  48173\n",
       "Unknown                                    33821\n",
       "No Passing Zone                            31635\n",
       "Yield Sign                                  5930\n",
       "Other                                       4014\n",
       "Construction Work Area                      1976\n",
       "Flashing Light                              1409\n",
       "RR Crossing Gates                            680\n",
       "Not Applicable                               507\n",
       "Police/Fire Emergency                        437\n",
       "Stopped School Bus-Red Lights Flashing       402\n",
       "Officer/Guard                                246\n",
       "Maintenance Work Area                        244\n",
       "School Zone                                  196\n",
       "RR Crossing Sign                             130\n",
       "Utility Work Area                             96\n",
       "RR Crossing Flashing Light                    57\n",
       "Name: Traffic Control Device, dtype: int64"
      ]
     },
     "execution_count": 17,
     "metadata": {},
     "output_type": "execute_result"
    }
   ],
   "source": [
    "df['Traffic Control Device'].value_counts()"
   ]
  },
  {
   "cell_type": "code",
   "execution_count": 18,
   "metadata": {
    "ExecuteTime": {
     "end_time": "2019-08-12T18:33:50.025491Z",
     "start_time": "2019-08-12T18:33:50.019270Z"
    }
   },
   "outputs": [],
   "source": [
    "#assumption: if not specified it did not occur at a traffice device/sign\n",
    "traffic_dev_map = {\n",
    "\"None\": \"No Traffic Device\",\n",
    "\"Traffic Signal\": \"Traffic Device\",\n",
    "\"Stop Sign\":      \"Traffic Device\",\n",
    "\"No Passing Zone\": \"No Traffic Device\",\n",
    "\"Unknown\": \"Unknown\",             #Assumptions made\n",
    "\"Yield Sign\": \"Traffic Device\",\n",
    "\"Other\": \"No Traffic Device\",               #Assumptions made\n",
    "\"Construction Work Area\": \"No Traffic Device\",\n",
    "\"Flashing Light\": \"Traffic Device\", \n",
    "\"RR Crossing Gates\": \"Traffic Device\",\n",
    "\"Not Applicable\": \"No Traffic Device\",\n",
    "\"Police/Fire Emergency\":\"No Traffic Device\",\n",
    "\"Stopped School Bus-Red Lights Flashing\": \"Traffic Device\",\n",
    "\"Maintenance Work Area\": \"No Traffic Device\",\n",
    "\"Officer/Guard\": \"No Traffic Device\",\n",
    "\"School Zone\": \"No Traffic Device\",\n",
    "\"RR Crossing Sign\": \"Traffic Device\",\n",
    "\"Utility Work Area\": \"No Traffic Device\",\n",
    "\"RR Crossing Flashing Light\": \"No Traffic Device\"\n",
    "}"
   ]
  },
  {
   "cell_type": "code",
   "execution_count": 19,
   "metadata": {
    "ExecuteTime": {
     "end_time": "2019-08-12T18:33:54.775246Z",
     "start_time": "2019-08-12T18:33:54.377065Z"
    }
   },
   "outputs": [],
   "source": [
    "#Apply dictionary map\n",
    "df['Traffic Control Device'].replace(traffic_dev_map, inplace=True)"
   ]
  },
  {
   "cell_type": "code",
   "execution_count": 20,
   "metadata": {
    "ExecuteTime": {
     "end_time": "2019-08-12T18:33:58.856687Z",
     "start_time": "2019-08-12T18:33:58.835847Z"
    }
   },
   "outputs": [
    {
     "data": {
      "text/html": [
       "<div>\n",
       "<style scoped>\n",
       "    .dataframe tbody tr th:only-of-type {\n",
       "        vertical-align: middle;\n",
       "    }\n",
       "\n",
       "    .dataframe tbody tr th {\n",
       "        vertical-align: top;\n",
       "    }\n",
       "\n",
       "    .dataframe thead th {\n",
       "        text-align: right;\n",
       "    }\n",
       "</style>\n",
       "<table border=\"1\" class=\"dataframe\">\n",
       "  <thead>\n",
       "    <tr style=\"text-align: right;\">\n",
       "      <th></th>\n",
       "      <th>index</th>\n",
       "      <th>Crash Descriptor</th>\n",
       "      <th>Time</th>\n",
       "      <th>Date</th>\n",
       "      <th>Day of Week</th>\n",
       "      <th>Lighting Conditions</th>\n",
       "      <th>County Name</th>\n",
       "      <th>Weather Conditions</th>\n",
       "      <th>Traffic Control Device</th>\n",
       "      <th>Road Surface Conditions</th>\n",
       "      <th>Event Descriptor</th>\n",
       "      <th>Number of Vehicles Involved</th>\n",
       "      <th>Hour</th>\n",
       "      <th>Month</th>\n",
       "      <th>Straight_Road</th>\n",
       "      <th>Curve_Road</th>\n",
       "      <th>Level_Road</th>\n",
       "      <th>Grade_Road</th>\n",
       "      <th>Hill_Road</th>\n",
       "    </tr>\n",
       "  </thead>\n",
       "  <tbody>\n",
       "    <tr>\n",
       "      <th>0</th>\n",
       "      <td>3</td>\n",
       "      <td>0</td>\n",
       "      <td>12:32</td>\n",
       "      <td>2016-12-31</td>\n",
       "      <td>Saturday</td>\n",
       "      <td>Daylight</td>\n",
       "      <td>ERIE</td>\n",
       "      <td>Snow</td>\n",
       "      <td>No Traffic Device</td>\n",
       "      <td>Snow/Ice</td>\n",
       "      <td>Snow Embankment, Collision With Fixed Object</td>\n",
       "      <td>1</td>\n",
       "      <td>12</td>\n",
       "      <td>12</td>\n",
       "      <td>1</td>\n",
       "      <td>0</td>\n",
       "      <td>1</td>\n",
       "      <td>0</td>\n",
       "      <td>0</td>\n",
       "    </tr>\n",
       "    <tr>\n",
       "      <th>1</th>\n",
       "      <td>5</td>\n",
       "      <td>1</td>\n",
       "      <td>15:40</td>\n",
       "      <td>2016-12-31</td>\n",
       "      <td>Saturday</td>\n",
       "      <td>Daylight</td>\n",
       "      <td>SUFFOLK</td>\n",
       "      <td>Clear</td>\n",
       "      <td>Traffic Device</td>\n",
       "      <td>Dry</td>\n",
       "      <td>Other Motor Vehicle, Collision With</td>\n",
       "      <td>2</td>\n",
       "      <td>15</td>\n",
       "      <td>12</td>\n",
       "      <td>1</td>\n",
       "      <td>0</td>\n",
       "      <td>1</td>\n",
       "      <td>0</td>\n",
       "      <td>0</td>\n",
       "    </tr>\n",
       "  </tbody>\n",
       "</table>\n",
       "</div>"
      ],
      "text/plain": [
       "   index  Crash Descriptor   Time        Date Day of Week Lighting Conditions  \\\n",
       "0      3                 0  12:32  2016-12-31    Saturday            Daylight   \n",
       "1      5                 1  15:40  2016-12-31    Saturday            Daylight   \n",
       "\n",
       "  County Name Weather Conditions Traffic Control Device  \\\n",
       "0        ERIE               Snow      No Traffic Device   \n",
       "1     SUFFOLK              Clear         Traffic Device   \n",
       "\n",
       "  Road Surface Conditions                              Event Descriptor  \\\n",
       "0                Snow/Ice  Snow Embankment, Collision With Fixed Object   \n",
       "1                     Dry           Other Motor Vehicle, Collision With   \n",
       "\n",
       "   Number of Vehicles Involved  Hour  Month  Straight_Road  Curve_Road  \\\n",
       "0                            1    12     12              1           0   \n",
       "1                            2    15     12              1           0   \n",
       "\n",
       "   Level_Road  Grade_Road  Hill_Road  \n",
       "0           1           0          0  \n",
       "1           1           0          0  "
      ]
     },
     "execution_count": 20,
     "metadata": {},
     "output_type": "execute_result"
    }
   ],
   "source": [
    "df.head(2)"
   ]
  },
  {
   "cell_type": "markdown",
   "metadata": {},
   "source": [
    "### Event Descriptor"
   ]
  },
  {
   "cell_type": "code",
   "execution_count": 21,
   "metadata": {
    "ExecuteTime": {
     "end_time": "2019-08-12T18:34:01.437444Z",
     "start_time": "2019-08-12T18:34:01.318940Z"
    }
   },
   "outputs": [
    {
     "name": "stdout",
     "output_type": "stream",
     "text": [
      "33\n"
     ]
    },
    {
     "data": {
      "text/plain": [
       "Other Motor Vehicle, Collision With                             401119\n",
       "Deer                                                             36112\n",
       "Guide Rail - Not At End, Collision With Fixed Object             16736\n",
       "Light Support/Utility Pole, Collision With Fixed Object          12966\n",
       "Tree, Collision With Fixed Object                                11889\n",
       "Pedestrian, Collision With                                       11785\n",
       "Earth Embankment/Rock Cut/Ditch, Collision With Fixed Object     10778\n",
       "Other Fixed Object*, Collision With Fixed Object                  5912\n",
       "Bicyclist, Collision With                                         5665\n",
       "Animal, Collision With                                            5533\n",
       "Other Object (Not Fixed)*, Collision With                         5222\n",
       "Sign Post, Collision With Fixed Object                            5207\n",
       "Curbing, Collision With Fixed Object                              4194\n",
       "Building/Wall, Collision With Fixed Object                        3799\n",
       "Snow Embankment, Collision With Fixed Object                      3070\n",
       "Other*, Non-Collision                                             2979\n",
       "Barrier, Collision With Fixed Object                              2805\n",
       "Overturned, Non-Collision                                         2272\n",
       "Fence, Collision With Fixed Object                                2231\n",
       "Median - Not At End, Collision With Fixed Object                  1798\n",
       "Guide Rail - End, Collision With Fixed Object                     1552\n",
       "Ran Off Roadway Only, Non-Collision                               1275\n",
       "Bridge Structure, Collision With Fixed Object                     1124\n",
       "Fire Hydrant, Collision With Fixed Object                         1039\n",
       "Fire/Explosion, Non-Collision                                      607\n",
       "Culver/Head Wall, Collision With Fixed Object                      568\n",
       "Unknown                                                            489\n",
       "Crash Cushion, Collision With Fixed Object                         297\n",
       "Other Pedestrian                                                   213\n",
       "Median - End, Collision With Fixed Object                          153\n",
       "Submersion, Non-Collision                                          112\n",
       "Railroad Train, Collision With                                      47\n",
       "In-Line Skater, Collision With                                      13\n",
       "Name: Event Descriptor, dtype: int64"
      ]
     },
     "execution_count": 21,
     "metadata": {},
     "output_type": "execute_result"
    }
   ],
   "source": [
    "#Types of collisions in the data set\n",
    "print(df['Event Descriptor'].nunique())\n",
    "df['Event Descriptor'].value_counts()"
   ]
  },
  {
   "cell_type": "code",
   "execution_count": 22,
   "metadata": {
    "ExecuteTime": {
     "end_time": "2019-08-12T18:34:07.953620Z",
     "start_time": "2019-08-12T18:34:07.945915Z"
    }
   },
   "outputs": [],
   "source": [
    "event_mapper = {\n",
    "\"Other Motor Vehicle, Collision With\": \"Vehicle Collision\",\n",
    "\"Deer\": \"Animal Collision\",\n",
    "\"Guide Rail - Not At End, Collision With Fixed Object\": \"Fixed Object Collision\",\n",
    "\"Earth Embankment/Rock Cut/Ditch, Collision With Fixed Object\": \"Fixed Object Collision\",\n",
    "\"Light Support/Utility Pole, Collision With Fixed Object\": \"Fixed Object Collision\",\n",
    "\"Tree, Collision With Fixed Object\": \"Fixed Object Collision\",\n",
    "\"Pedestrian, Collision With\": \"Pedestrian Collision\",\n",
    "\"Animal, Collision With\": \"Animal Collision\",\n",
    "\"Other Fixed Object*, Collision With Fixed Object\": \"Fixed Object Collision\",\n",
    "\"Sign Post, Collision With Fixed Object\": \"Fixed Object Collision\",\n",
    "\"Other Object (Not Fixed)*, Collision With\": \"Non-Fixed Object Collision\", \n",
    "\"Bicyclist, Collision With\": \"Bike Collision\",\n",
    "\"Curbing, Collision With Fixed Object\": \"Fixed Object Collision\",\n",
    "\"Building/Wall, Collision With Fixed Object\": \"Fixed Object Collision\",\n",
    "\"Snow Embankment, Collision With Fixed Object\": \"Fixed Object Collision\",\n",
    "\"Other*, Non-Collision\": \"Non-Collision\",\n",
    "\"Overturned, Non-Collision\": \"Non-Collision\",\n",
    "\"Barrier, Collision With Fixed Object\": \"Fixed Object Collision\",\n",
    "\"Fence, Collision With Fixed Object\": \"Fixed Object Collision\",\n",
    "\"Guide Rail - End, Collision With Fixed Object\": \"Fixed Object Collision\",\n",
    "\"Ran Off Roadway Only, Non-Collision\": \"Non-Collision\",\n",
    "\"Median - Not At End, Collision With Fixed Object\": \"Fixed Object Collision\",\n",
    "\"Bridge Structure, Collision With Fixed Object\": \"Fixed Object Collision\",\n",
    "\"Fire Hydrant, Collision With Fixed Object\": \"Fixed Object Collision\",\n",
    "\"Culver/Head Wall, Collision With Fixed Object\": \"Fixed Object Collision\",\n",
    "\"Fire/Explosion, Non-Collision\": \"Non-Collision\",\n",
    "\"Unknown\": \"Unknown\",\n",
    "\"Crash Cushion, Collision With Fixed Object\": \"Fixed Object Collision\",\n",
    "\"Other Pedestrian\": \"Pedestrian Collision\",\n",
    "\"Median - End, Collision With Fixed Object\": \"Fixed Object Collision\",\n",
    "\"Submersion, Non-Collision\": \"Non-Collision\",\n",
    "\"Railroad Train, Collision With\": \"Fixed Object Collision\",\n",
    "\"In-Line Skater, Collision With\": \"Pedestrian Collision\"\n",
    "}"
   ]
  },
  {
   "cell_type": "code",
   "execution_count": 23,
   "metadata": {
    "ExecuteTime": {
     "end_time": "2019-08-12T18:34:10.496957Z",
     "start_time": "2019-08-12T18:34:09.878282Z"
    }
   },
   "outputs": [],
   "source": [
    "#Map collision type\n",
    "df['Event Descriptor'].replace(event_mapper, inplace=True)"
   ]
  },
  {
   "cell_type": "code",
   "execution_count": 24,
   "metadata": {
    "ExecuteTime": {
     "end_time": "2019-08-12T18:34:11.072492Z",
     "start_time": "2019-08-12T18:34:10.990177Z"
    }
   },
   "outputs": [
    {
     "name": "stdout",
     "output_type": "stream",
     "text": [
      "Event Descriptor            Crash Descriptor\n",
      "Animal Collision            0                    39739\n",
      "                            1                     1906\n",
      "Bike Collision              0                      100\n",
      "                            1                     5565\n",
      "Fixed Object Collision      0                    58311\n",
      "                            1                    27854\n",
      "Non-Collision               0                     3831\n",
      "                            1                     3414\n",
      "Non-Fixed Object Collision  0                     4291\n",
      "                            1                      931\n",
      "Pedestrian Collision        0                       54\n",
      "                            1                    11957\n",
      "Unknown                     0                      363\n",
      "                            1                      126\n",
      "Vehicle Collision           0                   264653\n",
      "                            1                   136466\n",
      "Name: Crash Descriptor, dtype: int64\n"
     ]
    }
   ],
   "source": [
    "#show target level breakdown for each target\n",
    "f = df.groupby(['Event Descriptor', 'Crash Descriptor'])['Crash Descriptor'].count()\n",
    "print(f)"
   ]
  },
  {
   "cell_type": "markdown",
   "metadata": {},
   "source": [
    "# Join weather data here before using doing weather varaibles"
   ]
  },
  {
   "cell_type": "code",
   "execution_count": 25,
   "metadata": {
    "ExecuteTime": {
     "end_time": "2019-08-12T18:34:14.737379Z",
     "start_time": "2019-08-12T18:34:14.715270Z"
    }
   },
   "outputs": [
    {
     "data": {
      "text/html": [
       "<div>\n",
       "<style scoped>\n",
       "    .dataframe tbody tr th:only-of-type {\n",
       "        vertical-align: middle;\n",
       "    }\n",
       "\n",
       "    .dataframe tbody tr th {\n",
       "        vertical-align: top;\n",
       "    }\n",
       "\n",
       "    .dataframe thead th {\n",
       "        text-align: right;\n",
       "    }\n",
       "</style>\n",
       "<table border=\"1\" class=\"dataframe\">\n",
       "  <thead>\n",
       "    <tr style=\"text-align: right;\">\n",
       "      <th></th>\n",
       "      <th>index</th>\n",
       "      <th>Crash Descriptor</th>\n",
       "      <th>Time</th>\n",
       "      <th>Date</th>\n",
       "      <th>Day of Week</th>\n",
       "      <th>Lighting Conditions</th>\n",
       "      <th>County Name</th>\n",
       "      <th>Weather Conditions</th>\n",
       "      <th>Traffic Control Device</th>\n",
       "      <th>Road Surface Conditions</th>\n",
       "      <th>Event Descriptor</th>\n",
       "      <th>Number of Vehicles Involved</th>\n",
       "      <th>Hour</th>\n",
       "      <th>Month</th>\n",
       "      <th>Straight_Road</th>\n",
       "      <th>Curve_Road</th>\n",
       "      <th>Level_Road</th>\n",
       "      <th>Grade_Road</th>\n",
       "      <th>Hill_Road</th>\n",
       "    </tr>\n",
       "  </thead>\n",
       "  <tbody>\n",
       "    <tr>\n",
       "      <th>0</th>\n",
       "      <td>3</td>\n",
       "      <td>0</td>\n",
       "      <td>12:32</td>\n",
       "      <td>2016-12-31</td>\n",
       "      <td>Saturday</td>\n",
       "      <td>Daylight</td>\n",
       "      <td>ERIE</td>\n",
       "      <td>Snow</td>\n",
       "      <td>No Traffic Device</td>\n",
       "      <td>Snow/Ice</td>\n",
       "      <td>Fixed Object Collision</td>\n",
       "      <td>1</td>\n",
       "      <td>12</td>\n",
       "      <td>12</td>\n",
       "      <td>1</td>\n",
       "      <td>0</td>\n",
       "      <td>1</td>\n",
       "      <td>0</td>\n",
       "      <td>0</td>\n",
       "    </tr>\n",
       "    <tr>\n",
       "      <th>1</th>\n",
       "      <td>5</td>\n",
       "      <td>1</td>\n",
       "      <td>15:40</td>\n",
       "      <td>2016-12-31</td>\n",
       "      <td>Saturday</td>\n",
       "      <td>Daylight</td>\n",
       "      <td>SUFFOLK</td>\n",
       "      <td>Clear</td>\n",
       "      <td>Traffic Device</td>\n",
       "      <td>Dry</td>\n",
       "      <td>Vehicle Collision</td>\n",
       "      <td>2</td>\n",
       "      <td>15</td>\n",
       "      <td>12</td>\n",
       "      <td>1</td>\n",
       "      <td>0</td>\n",
       "      <td>1</td>\n",
       "      <td>0</td>\n",
       "      <td>0</td>\n",
       "    </tr>\n",
       "  </tbody>\n",
       "</table>\n",
       "</div>"
      ],
      "text/plain": [
       "   index  Crash Descriptor   Time        Date Day of Week Lighting Conditions  \\\n",
       "0      3                 0  12:32  2016-12-31    Saturday            Daylight   \n",
       "1      5                 1  15:40  2016-12-31    Saturday            Daylight   \n",
       "\n",
       "  County Name Weather Conditions Traffic Control Device  \\\n",
       "0        ERIE               Snow      No Traffic Device   \n",
       "1     SUFFOLK              Clear         Traffic Device   \n",
       "\n",
       "  Road Surface Conditions        Event Descriptor  \\\n",
       "0                Snow/Ice  Fixed Object Collision   \n",
       "1                     Dry       Vehicle Collision   \n",
       "\n",
       "   Number of Vehicles Involved  Hour  Month  Straight_Road  Curve_Road  \\\n",
       "0                            1    12     12              1           0   \n",
       "1                            2    15     12              1           0   \n",
       "\n",
       "   Level_Road  Grade_Road  Hill_Road  \n",
       "0           1           0          0  \n",
       "1           1           0          0  "
      ]
     },
     "execution_count": 25,
     "metadata": {},
     "output_type": "execute_result"
    }
   ],
   "source": [
    "df.head(2)"
   ]
  },
  {
   "cell_type": "code",
   "execution_count": 26,
   "metadata": {
    "ExecuteTime": {
     "end_time": "2019-08-12T18:34:20.979819Z",
     "start_time": "2019-08-12T18:34:20.949518Z"
    }
   },
   "outputs": [],
   "source": [
    "#bring in weather data. This has been gotten from the \n",
    "df_weather = pd.read_csv('weather.csv', usecols=['County_join','DATE_TIME_PROCESSED',\n",
    "                                                 'T_HIGH_F','WEATHER_DESC','WIND_MPH'])"
   ]
  },
  {
   "cell_type": "code",
   "execution_count": 27,
   "metadata": {
    "ExecuteTime": {
     "end_time": "2019-08-12T18:34:28.048669Z",
     "start_time": "2019-08-12T18:34:28.038244Z"
    }
   },
   "outputs": [
    {
     "data": {
      "text/plain": [
       "ERIE         916\n",
       "NASSAU       916\n",
       "MONROE       915\n",
       "ONONDAGA     915\n",
       "SUFFOLK      912\n",
       "DUTCHESS     905\n",
       "ALBANY       904\n",
       "BROOME       904\n",
       "ORANGE       902\n",
       "FULTON       902\n",
       "ESSEX        893\n",
       "CLINTON      890\n",
       "JEFFERSON    881\n",
       "Name: County_join, dtype: int64"
      ]
     },
     "execution_count": 27,
     "metadata": {},
     "output_type": "execute_result"
    }
   ],
   "source": [
    "df_weather['County_join'].value_counts()"
   ]
  },
  {
   "cell_type": "code",
   "execution_count": 28,
   "metadata": {
    "ExecuteTime": {
     "end_time": "2019-08-12T18:34:58.668882Z",
     "start_time": "2019-08-12T18:34:58.661162Z"
    }
   },
   "outputs": [],
   "source": [
    "#find position to add this in and a place to join this on date\n",
    "county_weather_map = { \n",
    "\"ESSEX\" : \"ESSEX\",\n",
    "\"FULTON\" : \"FULTON\",\n",
    "\"RENSSELAER\" : \"FULTON\",\n",
    "\"BROOME\" : \"BROOME\",\n",
    "\"ALBANY\" : \"ALBANY\",\n",
    "\"DUTCHESS\" : \"DUTCHESS\",\n",
    "\"GREENE\" : \"DUTCHESS\",\n",
    "\"ULSTER\" : \"DUTCHESS\",\n",
    "\"JEFFERSON\" : \"JEFFERSON\",\n",
    "\"ERIE\" : \"ERIE\",\n",
    "\"MONROE\" : \"MONROE\",\n",
    "\"ONTARIO\" : \"MONROE\",\n",
    "\"NASSAU\" : \"NASSAU\",\n",
    "\"WESTCHESTER\" : \"NASSAU\",\n",
    "\"ORANGE\" : \"ORANGE\",\n",
    "\"CLINTON\" : \"CLINTON\",\n",
    "\"ONONDAGA\" : \"ONONDAGA\",\n",
    "\"SUFFOLK\" : \"SUFFOLK\",\n",
    "#below are mapped to nearest station\n",
    "\"ONEIDA\" : \"ONONDAGA\",\n",
    "\"OTSEGO\" : \"BROOME\",\n",
    "\"ROCKLAND\" : \"NASSAU\",\n",
    "\"CATTARAUGUS\" : \"ERIE\",\n",
    "\"SARATOGA\" : \"ALBANY\",\n",
    "\"SCHENECTADY\" : \"ALBANY\"\n",
    "}"
   ]
  },
  {
   "cell_type": "code",
   "execution_count": 31,
   "metadata": {
    "ExecuteTime": {
     "end_time": "2019-08-12T18:36:03.256951Z",
     "start_time": "2019-08-12T18:36:01.671307Z"
    }
   },
   "outputs": [],
   "source": [
    "#add a column to use as joining since there are multiple Counties w/ same weather station\n",
    "df[\"County_join\"] = df['County Name'].replace(county_weather_map) \n",
    "df_orig = df.copy() #copy of original to save incase of errors\n",
    "df_comb = pd.merge(df, df_weather, how='left', left_on=['County_join', 'Date'], \n",
    "               right_on=['County_join', 'DATE_TIME_PROCESSED'])"
   ]
  },
  {
   "cell_type": "code",
   "execution_count": 32,
   "metadata": {
    "ExecuteTime": {
     "end_time": "2019-08-12T18:36:39.159012Z",
     "start_time": "2019-08-12T18:36:37.114850Z"
    }
   },
   "outputs": [
    {
     "name": "stdout",
     "output_type": "stream",
     "text": [
      "WEATHER_DESC           91711\n",
      "DATE_TIME_PROCESSED    91708\n",
      "T_HIGH_F               91708\n",
      "WIND_MPH               91708\n",
      "dtype: int64\n",
      "WEATHER_DESC               0\n",
      "DATE_TIME_PROCESSED    91708\n",
      "T_HIGH_F                   0\n",
      "WIND_MPH                   0\n",
      "dtype: int64\n"
     ]
    },
    {
     "data": {
      "text/plain": [
       "'\\n'"
      ]
     },
     "execution_count": 32,
     "metadata": {},
     "output_type": "execute_result"
    }
   ],
   "source": [
    "#Using the mean and mode by county by month to fill in NaNs\n",
    "\n",
    "print(df_comb.isna().sum().tail(4))\n",
    "\n",
    "#Sorting just to make sure order is fine\n",
    "df_comb.sort_values(by=[\"Date\", \"County Name\"], inplace=True)\n",
    "\n",
    "#fill with county level monthly average (best could do)\n",
    "df_comb['WIND_MPH'] = df_comb['WIND_MPH'].fillna(df_comb.groupby(['County Name', 'Month'])['WIND_MPH'].transform('mean'))\n",
    "df_comb['T_HIGH_F'] = df_comb['T_HIGH_F'].fillna(df_comb.groupby(['County Name', 'Month'])['T_HIGH_F'].transform('mean'))\n",
    "df_comb['WEATHER_DESC'] = df_comb['WEATHER_DESC'].fillna(df_comb.groupby(['County Name', 'Month'])['WEATHER_DESC'].apply(lambda x: x.fillna(x.mode()[0])))                                                        \n",
    "print(df_comb.isna().sum().tail(4))\n"
   ]
  },
  {
   "cell_type": "code",
   "execution_count": 34,
   "metadata": {
    "ExecuteTime": {
     "end_time": "2019-08-12T18:41:35.931784Z",
     "start_time": "2019-08-12T18:41:32.901559Z"
    }
   },
   "outputs": [],
   "source": [
    "#extracting weather conditions from weather description\n",
    "df_comb['Rainy Road?'] = df_comb[\"WEATHER_DESC\"].str.lower().str.contains(\"rain|drizzle|shower|storm\").astype(int)\n",
    "df_comb['Foggy Road?'] = df_comb[\"WEATHER_DESC\"].str.lower().str.contains(\"fog\").astype(int)\n",
    "df_comb['Icy Road?'] = df_comb[\"WEATHER_DESC\"].str.lower().str.contains(\"ice|snow|freeze\").astype(int)\n",
    "df_comb['Clear Conditions?'] = df_comb[\"WEATHER_DESC\"].str.lower().str.contains(\"clear\").astype(int)\n",
    "df_comb['Sunny Conditions?'] = df_comb[\"WEATHER_DESC\"].str.lower().str.contains(\"sunny\").astype(int)\n",
    "df_comb['Cloudy Conditions?'] = df_comb[\"WEATHER_DESC\"].str.lower().str.contains(\"cloud|overcast\").astype(int)"
   ]
  },
  {
   "cell_type": "code",
   "execution_count": 35,
   "metadata": {
    "ExecuteTime": {
     "end_time": "2019-08-12T18:41:36.906692Z",
     "start_time": "2019-08-12T18:41:36.894417Z"
    }
   },
   "outputs": [
    {
     "data": {
      "text/plain": [
       "Index(['index', 'Crash Descriptor', 'Time', 'Date', 'Day of Week',\n",
       "       'Lighting Conditions', 'County Name', 'Weather Conditions',\n",
       "       'Traffic Control Device', 'Road Surface Conditions', 'Event Descriptor',\n",
       "       'Number of Vehicles Involved', 'Hour', 'Month', 'Straight_Road',\n",
       "       'Curve_Road', 'Level_Road', 'Grade_Road', 'Hill_Road', 'County_join',\n",
       "       'WEATHER_DESC', 'DATE_TIME_PROCESSED', 'T_HIGH_F', 'WIND_MPH',\n",
       "       'Rainy Road?', 'Foggy Road?', 'Icy Road?', 'Clear Conditions?',\n",
       "       'Sunny Conditions?', 'Cloudy Conditions?'],\n",
       "      dtype='object')"
      ]
     },
     "execution_count": 35,
     "metadata": {},
     "output_type": "execute_result"
    }
   ],
   "source": [
    "#Current number of columns in the DF\n",
    "df_comb.columns"
   ]
  },
  {
   "cell_type": "code",
   "execution_count": 36,
   "metadata": {
    "ExecuteTime": {
     "end_time": "2019-08-12T18:41:41.081358Z",
     "start_time": "2019-08-12T18:41:41.034921Z"
    }
   },
   "outputs": [
    {
     "data": {
      "text/html": [
       "<div>\n",
       "<style scoped>\n",
       "    .dataframe tbody tr th:only-of-type {\n",
       "        vertical-align: middle;\n",
       "    }\n",
       "\n",
       "    .dataframe tbody tr th {\n",
       "        vertical-align: top;\n",
       "    }\n",
       "\n",
       "    .dataframe thead th {\n",
       "        text-align: right;\n",
       "    }\n",
       "</style>\n",
       "<table border=\"1\" class=\"dataframe\">\n",
       "  <thead>\n",
       "    <tr style=\"text-align: right;\">\n",
       "      <th></th>\n",
       "      <th>index</th>\n",
       "      <th>Crash Descriptor</th>\n",
       "      <th>Time</th>\n",
       "      <th>Date</th>\n",
       "      <th>Day of Week</th>\n",
       "      <th>Lighting Conditions</th>\n",
       "      <th>County Name</th>\n",
       "      <th>Weather Conditions</th>\n",
       "      <th>Traffic Control Device</th>\n",
       "      <th>Road Surface Conditions</th>\n",
       "      <th>...</th>\n",
       "      <th>WEATHER_DESC</th>\n",
       "      <th>DATE_TIME_PROCESSED</th>\n",
       "      <th>T_HIGH_F</th>\n",
       "      <th>WIND_MPH</th>\n",
       "      <th>Rainy Road?</th>\n",
       "      <th>Foggy Road?</th>\n",
       "      <th>Icy Road?</th>\n",
       "      <th>Clear Conditions?</th>\n",
       "      <th>Sunny Conditions?</th>\n",
       "      <th>Cloudy Conditions?</th>\n",
       "    </tr>\n",
       "  </thead>\n",
       "  <tbody>\n",
       "    <tr>\n",
       "      <th>559266</th>\n",
       "      <td>895339</td>\n",
       "      <td>0</td>\n",
       "      <td>18:53</td>\n",
       "      <td>2014-01-01</td>\n",
       "      <td>Wednesday</td>\n",
       "      <td>Dark-Road Unlighted</td>\n",
       "      <td>ALBANY</td>\n",
       "      <td>Cloudy</td>\n",
       "      <td>No Traffic Device</td>\n",
       "      <td>Dry</td>\n",
       "      <td>...</td>\n",
       "      <td>Passing clouds.</td>\n",
       "      <td>2014-01-01</td>\n",
       "      <td>18.0</td>\n",
       "      <td>2.486</td>\n",
       "      <td>0</td>\n",
       "      <td>0</td>\n",
       "      <td>0</td>\n",
       "      <td>0</td>\n",
       "      <td>0</td>\n",
       "      <td>1</td>\n",
       "    </tr>\n",
       "    <tr>\n",
       "      <th>559273</th>\n",
       "      <td>895352</td>\n",
       "      <td>0</td>\n",
       "      <td>2:36</td>\n",
       "      <td>2014-01-01</td>\n",
       "      <td>Wednesday</td>\n",
       "      <td>Dark-Road Lighted</td>\n",
       "      <td>ALBANY</td>\n",
       "      <td>Cloudy</td>\n",
       "      <td>No Traffic Device</td>\n",
       "      <td>Wet</td>\n",
       "      <td>...</td>\n",
       "      <td>Passing clouds.</td>\n",
       "      <td>2014-01-01</td>\n",
       "      <td>18.0</td>\n",
       "      <td>2.486</td>\n",
       "      <td>0</td>\n",
       "      <td>0</td>\n",
       "      <td>0</td>\n",
       "      <td>0</td>\n",
       "      <td>0</td>\n",
       "      <td>1</td>\n",
       "    </tr>\n",
       "  </tbody>\n",
       "</table>\n",
       "<p>2 rows × 30 columns</p>\n",
       "</div>"
      ],
      "text/plain": [
       "         index  Crash Descriptor   Time        Date Day of Week  \\\n",
       "559266  895339                 0  18:53  2014-01-01   Wednesday   \n",
       "559273  895352                 0   2:36  2014-01-01   Wednesday   \n",
       "\n",
       "        Lighting Conditions County Name Weather Conditions  \\\n",
       "559266  Dark-Road Unlighted      ALBANY             Cloudy   \n",
       "559273    Dark-Road Lighted      ALBANY             Cloudy   \n",
       "\n",
       "       Traffic Control Device Road Surface Conditions        ...          \\\n",
       "559266      No Traffic Device                     Dry        ...           \n",
       "559273      No Traffic Device                     Wet        ...           \n",
       "\n",
       "           WEATHER_DESC  DATE_TIME_PROCESSED  T_HIGH_F  WIND_MPH  Rainy Road?  \\\n",
       "559266  Passing clouds.           2014-01-01      18.0     2.486            0   \n",
       "559273  Passing clouds.           2014-01-01      18.0     2.486            0   \n",
       "\n",
       "        Foggy Road?  Icy Road?  Clear Conditions?  Sunny Conditions?  \\\n",
       "559266            0          0                  0                  0   \n",
       "559273            0          0                  0                  0   \n",
       "\n",
       "       Cloudy Conditions?  \n",
       "559266                  1  \n",
       "559273                  1  \n",
       "\n",
       "[2 rows x 30 columns]"
      ]
     },
     "execution_count": 36,
     "metadata": {},
     "output_type": "execute_result"
    }
   ],
   "source": [
    "df_comb.head(2)"
   ]
  },
  {
   "cell_type": "markdown",
   "metadata": {},
   "source": [
    "### Final Prep"
   ]
  },
  {
   "cell_type": "code",
   "execution_count": 37,
   "metadata": {
    "ExecuteTime": {
     "end_time": "2019-08-12T18:43:35.599976Z",
     "start_time": "2019-08-12T18:43:35.149354Z"
    }
   },
   "outputs": [],
   "source": [
    "df_use = df_comb.copy()\n",
    "df_use.reset_index(inplace=True)\n",
    "#dopping all of the columns used for feature engineering and joining\n",
    "df_use.drop(['Weather Conditions', 'Lighting Conditions', \n",
    "             'Road Surface Conditions', 'Date','DATE_TIME_PROCESSED','WEATHER_DESC', 'Time','County_join',\n",
    "             'level_0', 'index'] ,axis=1, inplace=True)"
   ]
  },
  {
   "cell_type": "code",
   "execution_count": 38,
   "metadata": {
    "ExecuteTime": {
     "end_time": "2019-08-12T18:43:39.082538Z",
     "start_time": "2019-08-12T18:43:39.059995Z"
    }
   },
   "outputs": [
    {
     "data": {
      "text/html": [
       "<div>\n",
       "<style scoped>\n",
       "    .dataframe tbody tr th:only-of-type {\n",
       "        vertical-align: middle;\n",
       "    }\n",
       "\n",
       "    .dataframe tbody tr th {\n",
       "        vertical-align: top;\n",
       "    }\n",
       "\n",
       "    .dataframe thead th {\n",
       "        text-align: right;\n",
       "    }\n",
       "</style>\n",
       "<table border=\"1\" class=\"dataframe\">\n",
       "  <thead>\n",
       "    <tr style=\"text-align: right;\">\n",
       "      <th></th>\n",
       "      <th>Crash Descriptor</th>\n",
       "      <th>Day of Week</th>\n",
       "      <th>County Name</th>\n",
       "      <th>Traffic Control Device</th>\n",
       "      <th>Event Descriptor</th>\n",
       "      <th>Number of Vehicles Involved</th>\n",
       "      <th>Hour</th>\n",
       "      <th>Month</th>\n",
       "      <th>Straight_Road</th>\n",
       "      <th>Curve_Road</th>\n",
       "      <th>...</th>\n",
       "      <th>Grade_Road</th>\n",
       "      <th>Hill_Road</th>\n",
       "      <th>T_HIGH_F</th>\n",
       "      <th>WIND_MPH</th>\n",
       "      <th>Rainy Road?</th>\n",
       "      <th>Foggy Road?</th>\n",
       "      <th>Icy Road?</th>\n",
       "      <th>Clear Conditions?</th>\n",
       "      <th>Sunny Conditions?</th>\n",
       "      <th>Cloudy Conditions?</th>\n",
       "    </tr>\n",
       "  </thead>\n",
       "  <tbody>\n",
       "    <tr>\n",
       "      <th>0</th>\n",
       "      <td>0</td>\n",
       "      <td>Wednesday</td>\n",
       "      <td>ALBANY</td>\n",
       "      <td>No Traffic Device</td>\n",
       "      <td>Non-Fixed Object Collision</td>\n",
       "      <td>1</td>\n",
       "      <td>18</td>\n",
       "      <td>1</td>\n",
       "      <td>0</td>\n",
       "      <td>1</td>\n",
       "      <td>...</td>\n",
       "      <td>0</td>\n",
       "      <td>0</td>\n",
       "      <td>18.0</td>\n",
       "      <td>2.486</td>\n",
       "      <td>0</td>\n",
       "      <td>0</td>\n",
       "      <td>0</td>\n",
       "      <td>0</td>\n",
       "      <td>0</td>\n",
       "      <td>1</td>\n",
       "    </tr>\n",
       "    <tr>\n",
       "      <th>1</th>\n",
       "      <td>0</td>\n",
       "      <td>Wednesday</td>\n",
       "      <td>ALBANY</td>\n",
       "      <td>No Traffic Device</td>\n",
       "      <td>Vehicle Collision</td>\n",
       "      <td>2</td>\n",
       "      <td>2</td>\n",
       "      <td>1</td>\n",
       "      <td>1</td>\n",
       "      <td>0</td>\n",
       "      <td>...</td>\n",
       "      <td>0</td>\n",
       "      <td>0</td>\n",
       "      <td>18.0</td>\n",
       "      <td>2.486</td>\n",
       "      <td>0</td>\n",
       "      <td>0</td>\n",
       "      <td>0</td>\n",
       "      <td>0</td>\n",
       "      <td>0</td>\n",
       "      <td>1</td>\n",
       "    </tr>\n",
       "    <tr>\n",
       "      <th>2</th>\n",
       "      <td>0</td>\n",
       "      <td>Wednesday</td>\n",
       "      <td>ALBANY</td>\n",
       "      <td>No Traffic Device</td>\n",
       "      <td>Vehicle Collision</td>\n",
       "      <td>2</td>\n",
       "      <td>2</td>\n",
       "      <td>1</td>\n",
       "      <td>1</td>\n",
       "      <td>0</td>\n",
       "      <td>...</td>\n",
       "      <td>0</td>\n",
       "      <td>0</td>\n",
       "      <td>18.0</td>\n",
       "      <td>2.486</td>\n",
       "      <td>0</td>\n",
       "      <td>0</td>\n",
       "      <td>0</td>\n",
       "      <td>0</td>\n",
       "      <td>0</td>\n",
       "      <td>1</td>\n",
       "    </tr>\n",
       "  </tbody>\n",
       "</table>\n",
       "<p>3 rows × 21 columns</p>\n",
       "</div>"
      ],
      "text/plain": [
       "   Crash Descriptor Day of Week County Name Traffic Control Device  \\\n",
       "0                 0   Wednesday      ALBANY      No Traffic Device   \n",
       "1                 0   Wednesday      ALBANY      No Traffic Device   \n",
       "2                 0   Wednesday      ALBANY      No Traffic Device   \n",
       "\n",
       "             Event Descriptor  Number of Vehicles Involved  Hour  Month  \\\n",
       "0  Non-Fixed Object Collision                            1    18      1   \n",
       "1           Vehicle Collision                            2     2      1   \n",
       "2           Vehicle Collision                            2     2      1   \n",
       "\n",
       "   Straight_Road  Curve_Road         ...          Grade_Road  Hill_Road  \\\n",
       "0              0           1         ...                   0          0   \n",
       "1              1           0         ...                   0          0   \n",
       "2              1           0         ...                   0          0   \n",
       "\n",
       "   T_HIGH_F  WIND_MPH  Rainy Road?  Foggy Road?  Icy Road?  Clear Conditions?  \\\n",
       "0      18.0     2.486            0            0          0                  0   \n",
       "1      18.0     2.486            0            0          0                  0   \n",
       "2      18.0     2.486            0            0          0                  0   \n",
       "\n",
       "   Sunny Conditions?  Cloudy Conditions?  \n",
       "0                  0                   1  \n",
       "1                  0                   1  \n",
       "2                  0                   1  \n",
       "\n",
       "[3 rows x 21 columns]"
      ]
     },
     "execution_count": 38,
     "metadata": {},
     "output_type": "execute_result"
    }
   ],
   "source": [
    "df_use.head(3)"
   ]
  },
  {
   "cell_type": "code",
   "execution_count": 39,
   "metadata": {
    "ExecuteTime": {
     "end_time": "2019-08-12T18:48:05.023052Z",
     "start_time": "2019-08-12T18:48:04.408980Z"
    }
   },
   "outputs": [
    {
     "name": "stdout",
     "output_type": "stream",
     "text": [
      "The number of columns now is:  59\n",
      "Index(['Crash Descriptor', 'Number of Vehicles Involved', 'Hour', 'Month',\n",
      "       'Straight_Road', 'Curve_Road', 'Level_Road', 'Grade_Road', 'Hill_Road',\n",
      "       'T_HIGH_F', 'WIND_MPH', 'Rainy Road?', 'Foggy Road?', 'Icy Road?',\n",
      "       'Clear Conditions?', 'Sunny Conditions?', 'Cloudy Conditions?',\n",
      "       'Day of Week_Friday', 'Day of Week_Monday', 'Day of Week_Saturday',\n",
      "       'Day of Week_Sunday', 'Day of Week_Thursday', 'Day of Week_Tuesday',\n",
      "       'Day of Week_Wednesday', 'County Name_ALBANY', 'County Name_BROOME',\n",
      "       'County Name_CATTARAUGUS', 'County Name_CLINTON',\n",
      "       'County Name_DUTCHESS', 'County Name_ERIE', 'County Name_ESSEX',\n",
      "       'County Name_FULTON', 'County Name_GREENE', 'County Name_JEFFERSON',\n",
      "       'County Name_MONROE', 'County Name_NASSAU', 'County Name_ONEIDA',\n",
      "       'County Name_ONONDAGA', 'County Name_ONTARIO', 'County Name_ORANGE',\n",
      "       'County Name_OTSEGO', 'County Name_RENSSELAER', 'County Name_ROCKLAND',\n",
      "       'County Name_SARATOGA', 'County Name_SCHENECTADY',\n",
      "       'County Name_SUFFOLK', 'County Name_ULSTER', 'County Name_WESTCHESTER',\n",
      "       'Traffic Control Device_No Traffic Device',\n",
      "       'Traffic Control Device_Traffic Device',\n",
      "       'Traffic Control Device_Unknown', 'Event Descriptor_Animal Collision',\n",
      "       'Event Descriptor_Bike Collision',\n",
      "       'Event Descriptor_Fixed Object Collision',\n",
      "       'Event Descriptor_Non-Collision',\n",
      "       'Event Descriptor_Non-Fixed Object Collision',\n",
      "       'Event Descriptor_Pedestrian Collision', 'Event Descriptor_Unknown',\n",
      "       'Event Descriptor_Vehicle Collision'],\n",
      "      dtype='object')\n"
     ]
    }
   ],
   "source": [
    "df_dummied = pd.get_dummies(df_use)\n",
    "\n",
    "print(\"The number of columns now is: \", df_dummied.shape[1])\n",
    "print(df_dummied.columns)"
   ]
  },
  {
   "cell_type": "code",
   "execution_count": 40,
   "metadata": {
    "ExecuteTime": {
     "end_time": "2019-08-12T18:48:23.792682Z",
     "start_time": "2019-08-12T18:48:23.768566Z"
    }
   },
   "outputs": [
    {
     "data": {
      "text/html": [
       "<div>\n",
       "<style scoped>\n",
       "    .dataframe tbody tr th:only-of-type {\n",
       "        vertical-align: middle;\n",
       "    }\n",
       "\n",
       "    .dataframe tbody tr th {\n",
       "        vertical-align: top;\n",
       "    }\n",
       "\n",
       "    .dataframe thead th {\n",
       "        text-align: right;\n",
       "    }\n",
       "</style>\n",
       "<table border=\"1\" class=\"dataframe\">\n",
       "  <thead>\n",
       "    <tr style=\"text-align: right;\">\n",
       "      <th></th>\n",
       "      <th>Crash Descriptor</th>\n",
       "      <th>Number of Vehicles Involved</th>\n",
       "      <th>Hour</th>\n",
       "      <th>Month</th>\n",
       "      <th>Straight_Road</th>\n",
       "      <th>Curve_Road</th>\n",
       "      <th>Level_Road</th>\n",
       "      <th>Grade_Road</th>\n",
       "      <th>Hill_Road</th>\n",
       "      <th>T_HIGH_F</th>\n",
       "      <th>...</th>\n",
       "      <th>Traffic Control Device_Traffic Device</th>\n",
       "      <th>Traffic Control Device_Unknown</th>\n",
       "      <th>Event Descriptor_Animal Collision</th>\n",
       "      <th>Event Descriptor_Bike Collision</th>\n",
       "      <th>Event Descriptor_Fixed Object Collision</th>\n",
       "      <th>Event Descriptor_Non-Collision</th>\n",
       "      <th>Event Descriptor_Non-Fixed Object Collision</th>\n",
       "      <th>Event Descriptor_Pedestrian Collision</th>\n",
       "      <th>Event Descriptor_Unknown</th>\n",
       "      <th>Event Descriptor_Vehicle Collision</th>\n",
       "    </tr>\n",
       "  </thead>\n",
       "  <tbody>\n",
       "    <tr>\n",
       "      <th>0</th>\n",
       "      <td>0</td>\n",
       "      <td>1</td>\n",
       "      <td>18</td>\n",
       "      <td>1</td>\n",
       "      <td>0</td>\n",
       "      <td>1</td>\n",
       "      <td>1</td>\n",
       "      <td>0</td>\n",
       "      <td>0</td>\n",
       "      <td>18.0</td>\n",
       "      <td>...</td>\n",
       "      <td>0</td>\n",
       "      <td>0</td>\n",
       "      <td>0</td>\n",
       "      <td>0</td>\n",
       "      <td>0</td>\n",
       "      <td>0</td>\n",
       "      <td>1</td>\n",
       "      <td>0</td>\n",
       "      <td>0</td>\n",
       "      <td>0</td>\n",
       "    </tr>\n",
       "    <tr>\n",
       "      <th>1</th>\n",
       "      <td>0</td>\n",
       "      <td>2</td>\n",
       "      <td>2</td>\n",
       "      <td>1</td>\n",
       "      <td>1</td>\n",
       "      <td>0</td>\n",
       "      <td>1</td>\n",
       "      <td>0</td>\n",
       "      <td>0</td>\n",
       "      <td>18.0</td>\n",
       "      <td>...</td>\n",
       "      <td>0</td>\n",
       "      <td>0</td>\n",
       "      <td>0</td>\n",
       "      <td>0</td>\n",
       "      <td>0</td>\n",
       "      <td>0</td>\n",
       "      <td>0</td>\n",
       "      <td>0</td>\n",
       "      <td>0</td>\n",
       "      <td>1</td>\n",
       "    </tr>\n",
       "  </tbody>\n",
       "</table>\n",
       "<p>2 rows × 59 columns</p>\n",
       "</div>"
      ],
      "text/plain": [
       "   Crash Descriptor  Number of Vehicles Involved  Hour  Month  Straight_Road  \\\n",
       "0                 0                            1    18      1              0   \n",
       "1                 0                            2     2      1              1   \n",
       "\n",
       "   Curve_Road  Level_Road  Grade_Road  Hill_Road  T_HIGH_F  \\\n",
       "0           1           1           0          0      18.0   \n",
       "1           0           1           0          0      18.0   \n",
       "\n",
       "                  ...                  Traffic Control Device_Traffic Device  \\\n",
       "0                 ...                                                      0   \n",
       "1                 ...                                                      0   \n",
       "\n",
       "   Traffic Control Device_Unknown  Event Descriptor_Animal Collision  \\\n",
       "0                               0                                  0   \n",
       "1                               0                                  0   \n",
       "\n",
       "   Event Descriptor_Bike Collision  Event Descriptor_Fixed Object Collision  \\\n",
       "0                                0                                        0   \n",
       "1                                0                                        0   \n",
       "\n",
       "   Event Descriptor_Non-Collision  \\\n",
       "0                               0   \n",
       "1                               0   \n",
       "\n",
       "   Event Descriptor_Non-Fixed Object Collision  \\\n",
       "0                                            1   \n",
       "1                                            0   \n",
       "\n",
       "   Event Descriptor_Pedestrian Collision  Event Descriptor_Unknown  \\\n",
       "0                                      0                         0   \n",
       "1                                      0                         0   \n",
       "\n",
       "   Event Descriptor_Vehicle Collision  \n",
       "0                                   0  \n",
       "1                                   1  \n",
       "\n",
       "[2 rows x 59 columns]"
      ]
     },
     "execution_count": 40,
     "metadata": {},
     "output_type": "execute_result"
    }
   ],
   "source": [
    "df_dummied.head(2)"
   ]
  },
  {
   "cell_type": "code",
   "execution_count": 41,
   "metadata": {
    "ExecuteTime": {
     "end_time": "2019-08-12T18:48:57.672288Z",
     "start_time": "2019-08-12T18:48:26.909401Z"
    }
   },
   "outputs": [],
   "source": [
    "#final step saving CSV for other notebook\n",
    "df_dummied.to_csv('final.csv', header= True, index=False)"
   ]
  },
  {
   "cell_type": "code",
   "execution_count": null,
   "metadata": {},
   "outputs": [],
   "source": []
  }
 ],
 "metadata": {
  "kernelspec": {
   "display_name": "Python 3",
   "language": "python",
   "name": "python3"
  },
  "language_info": {
   "codemirror_mode": {
    "name": "ipython",
    "version": 3
   },
   "file_extension": ".py",
   "mimetype": "text/x-python",
   "name": "python",
   "nbconvert_exporter": "python",
   "pygments_lexer": "ipython3",
   "version": "3.7.1"
  },
  "varInspector": {
   "cols": {
    "lenName": 16,
    "lenType": 16,
    "lenVar": 40
   },
   "kernels_config": {
    "python": {
     "delete_cmd_postfix": "",
     "delete_cmd_prefix": "del ",
     "library": "var_list.py",
     "varRefreshCmd": "print(var_dic_list())"
    },
    "r": {
     "delete_cmd_postfix": ") ",
     "delete_cmd_prefix": "rm(",
     "library": "var_list.r",
     "varRefreshCmd": "cat(var_dic_list()) "
    }
   },
   "types_to_exclude": [
    "module",
    "function",
    "builtin_function_or_method",
    "instance",
    "_Feature"
   ],
   "window_display": false
  }
 },
 "nbformat": 4,
 "nbformat_minor": 2
}
